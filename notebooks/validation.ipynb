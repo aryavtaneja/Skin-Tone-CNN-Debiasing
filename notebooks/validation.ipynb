{
 "cells": [
  {
   "cell_type": "code",
   "execution_count": 1,
   "metadata": {},
   "outputs": [],
   "source": [
    "import numpy as np\n",
    "import pandas as pd\n",
    "import tensorflow as tf\n",
    "from tensorflow import keras\n",
    "from sklearn.preprocessing import LabelBinarizer"
   ]
  },
  {
   "cell_type": "code",
   "execution_count": 2,
   "metadata": {},
   "outputs": [],
   "source": [
    "def test(model, testdf):\n",
    "    num_letters = {0: 'A', 1: 'B', 2: 'C', 3: 'D', 4: 'E', 5: 'F',\n",
    "               6: 'G', 7: 'H', 8: 'I', 9: 'K',\n",
    "               10: 'L', 11: 'M', 12: 'N', 13: 'O', 14: 'P',\n",
    "               15: 'Q', 16: 'R', 17: 'S', 18: 'T', 19: 'U',\n",
    "               20: 'V', 21: 'W', 22: 'X', 23: 'Y'}\n",
    "\n",
    "    testdf = testdf.copy()\n",
    "\n",
    "    y_test = testdf['label']\n",
    "    del testdf['label']\n",
    "    x_test = testdf.values\n",
    "    x_test = x_test / 255\n",
    "    x_test = x_test.reshape(-1, 70, 70, 3)\n",
    "\n",
    "    lb = LabelBinarizer()\n",
    "    y_test = lb.fit_transform(y_test)\n",
    "\n",
    "    y_pred = model.predict(x_test)\n",
    "    y_pred2 = np.array([np.argmax(y_pred[i]) for i in range(len(y_pred))])\n",
    "    y_test2 = np.array([np.argmax(y_test[i]) for i in range(len(y_pred))])\n",
    "\n",
    "    print('Accuracy: {}%'.format(round(np.sum(y_pred2 == y_test2)/len(y_pred2)*100, 2)))"
   ]
  },
  {
   "cell_type": "code",
   "execution_count": 3,
   "metadata": {},
   "outputs": [],
   "source": [
    "M1 = keras.models.load_model('../models/M1.h5')\n",
    "M2 = keras.models.load_model('../models/M2.h5')"
   ]
  },
  {
   "cell_type": "code",
   "execution_count": 5,
   "metadata": {},
   "outputs": [
    {
     "name": "stdout",
     "output_type": "stream",
     "text": [
      "Testing DS1_V\n",
      "M1:\n",
      "Accuracy: 100.0%\n",
      "M2:\n",
      "Accuracy: 100.0%\n"
     ]
    }
   ],
   "source": [
    "print('Testing DS1_V')\n",
    "\n",
    "DS1_V = pd.read_csv('../data/DS1_V.csv')\n",
    "del DS1_V['Unnamed: 14701']\n",
    "\n",
    "print('M1:')\n",
    "test(M1, DS1_V)\n",
    "print('M2:')\n",
    "test(M2, DS1_V)"
   ]
  },
  {
   "cell_type": "code",
   "execution_count": 6,
   "metadata": {},
   "outputs": [
    {
     "name": "stdout",
     "output_type": "stream",
     "text": [
      "Testing DS2_V\n",
      "M1:\n",
      "Accuracy: 59.61%\n",
      "M2:\n",
      "Accuracy: 99.99%\n"
     ]
    }
   ],
   "source": [
    "print('Testing DS2_V')\n",
    "\n",
    "DS2_V = pd.read_csv('../data/DS2_V.csv')\n",
    "del DS2_V['Unnamed: 14701']\n",
    "\n",
    "print('M1:')\n",
    "test(M1, DS2_V)\n",
    "print('M2:')\n",
    "test(M2, DS2_V)"
   ]
  },
  {
   "cell_type": "code",
   "execution_count": 7,
   "metadata": {},
   "outputs": [
    {
     "name": "stdout",
     "output_type": "stream",
     "text": [
      "Testing RW\n",
      "M1:\n",
      "Accuracy: 18.66%\n",
      "M2:\n",
      "Accuracy: 28.51%\n"
     ]
    }
   ],
   "source": [
    "print('Testing RW')\n",
    "\n",
    "RW = pd.read_csv('../data/RW.csv')\n",
    "del RW['Unnamed: 14701']\n",
    "\n",
    "print('M1:')\n",
    "test(M1, RW)\n",
    "print('M2:')\n",
    "test(M2, RW)"
   ]
  }
 ],
 "metadata": {
  "kernelspec": {
   "display_name": "tensor",
   "language": "python",
   "name": "python3"
  },
  "language_info": {
   "codemirror_mode": {
    "name": "ipython",
    "version": 3
   },
   "file_extension": ".py",
   "mimetype": "text/x-python",
   "name": "python",
   "nbconvert_exporter": "python",
   "pygments_lexer": "ipython3",
   "version": "3.8.8"
  },
  "orig_nbformat": 4,
  "vscode": {
   "interpreter": {
    "hash": "860ded9df05bd2a7a6fb8b4625a47831bf412219bd320bf30090506a6002257a"
   }
  }
 },
 "nbformat": 4,
 "nbformat_minor": 2
}
